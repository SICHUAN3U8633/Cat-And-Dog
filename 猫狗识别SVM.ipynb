{
 "cells": [
  {
   "cell_type": "code",
   "execution_count": 1,
   "id": "e703142f-b265-43ab-b3f9-f1dfff0ed7d7",
   "metadata": {},
   "outputs": [],
   "source": [
    "import os    \n",
    "from PIL import Image    \n",
    "import numpy as np    \n",
    "from sklearn import svm \n",
    "from sklearn.metrics import accuracy_score, classification_report \n",
    "from sklearn.model_selection import train_test_split "
   ]
  },
  {
   "cell_type": "code",
   "execution_count": 2,
   "id": "5e923665-69fe-4437-a384-f212c57f4994",
   "metadata": {},
   "outputs": [
    {
     "name": "stderr",
     "output_type": "stream",
     "text": [
      "D:\\software\\Anaconda3\\Lib\\site-packages\\PIL\\TiffImagePlugin.py:870: UserWarning: Truncated File Read\n",
      "  warnings.warn(str(msg))\n"
     ]
    }
   ],
   "source": [
    "\n",
    "def load_images_from_folder(folder):    \n",
    "    images = []    \n",
    "    labels = []    \n",
    "    for filename in os.listdir(folder):\n",
    "        if filename.endswith('.jpg'):  # 只处理.jpg 文件\n",
    "            img = Image.open(os.path.join(folder, filename)).convert('RGB')  # 确保图像是 RGB  \n",
    "            img = img.resize((128, 128))  # 调整大小  \n",
    "            hist = np.array(img.histogram()).reshape(3, 256).flatten().astype(\"float64\")  # 获取 RGB 直方图并展平  \n",
    "            hist /= hist.sum()  # 对直方图进行规范化 \n",
    "            images.append(hist)  \n",
    "            # 根据文件名设置标签\n",
    "            if 'cat.' in filename:    \n",
    "                labels.append(0)    \n",
    "            elif 'dog.' in filename:    \n",
    "                labels.append(1)\n",
    "    return np.array(images), np.array(labels)    \n",
    "\n",
    "cat_data, cat_labels = load_images_from_folder('D:\\\\30877\\\\Documents\\\\archive\\\\PetImages\\\\Cat')    \n",
    "dog_data, dog_labels = load_images_from_folder('D:\\\\30877\\\\Documents\\\\archive\\\\PetImages\\\\Dog')    \n",
    "\n",
    "# 组合数据\n",
    "X = np.concatenate((cat_data, dog_data))    \n",
    "y = np.concatenate((cat_labels, dog_labels))"
   ]
  },
  {
   "cell_type": "code",
   "execution_count": null,
   "id": "5ebc51df-479a-4441-a2bd-bd5361d2df43",
   "metadata": {},
   "outputs": [],
   "source": [
    "X_train, X_test, y_train, y_test = train_test_split(X, y, test_size=0.1, random_state=42)\n",
    "\n",
    "clf = svm.SVC(kernel='rbf', C=3)  \n",
    "clf.fit(X_train, y_train)\n",
    "\n",
    "y_pred = clf.predict(X_test)  \n",
    "\n",
    "print(\"Accuracy:\", accuracy_score(y_test, y_pred))  \n",
    "print(\"Classification Report:\\n\", classification_report(y_test, y_pred))"
   ]
  },
  {
   "cell_type": "code",
   "execution_count": null,
   "id": "d4a4e96d-4347-459e-895f-eec288d7d043",
   "metadata": {},
   "outputs": [],
   "source": []
  }
 ],
 "metadata": {
  "kernelspec": {
   "display_name": "Python 3 (ipykernel)",
   "language": "python",
   "name": "python3"
  },
  "language_info": {
   "codemirror_mode": {
    "name": "ipython",
    "version": 3
   },
   "file_extension": ".py",
   "mimetype": "text/x-python",
   "name": "python",
   "nbconvert_exporter": "python",
   "pygments_lexer": "ipython3",
   "version": "3.11.7"
  }
 },
 "nbformat": 4,
 "nbformat_minor": 5
}
