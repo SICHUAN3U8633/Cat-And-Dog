{
 "cells": [
  {
   "cell_type": "code",
   "execution_count": null,
   "id": "4e9dc1ee-e677-4905-84c1-4186d8c486c2",
   "metadata": {},
   "outputs": [],
   "source": [
    "from sklearn import svm\n",
    "from sklearn.model_selection import train_test_split\n",
    "from sklearn.preprocessing import LabelEncoder\n",
    "from sklearn.metrics import accuracy_score\n",
    "import numpy as np\n",
    "import cv2\n",
    "import os\n",
    "\n",
    "# 数据路径\n",
    "data_dir = 'D:\\\\30877\\\\Documents\\\\archive\\\\PetImages\\\\dataset'  \n",
    "\n",
    "# 加载数据\n",
    "def load_images_and_labels(data_dir):\n",
    "    images = []\n",
    "    labels = []\n",
    "    for image_file in os.listdir(data_dir):\n",
    "        image_path = os.path.join(data_dir, image_file)\n",
    "        if image_file.startswith('cat'):  \n",
    "            label = '0'  \n",
    "        else:  \n",
    "            label = '1'  \n",
    "        image = cv2.imread(image_path)\n",
    "        image = cv2.resize(image, (64, 64))  # 调整图片大小\n",
    "        image = image.flatten()  # 将图片展平为一维向量\n",
    "        images.append(image)\n",
    "        labels.append(label)\n",
    "    return np.array(images), np.array(labels)\n",
    "\n",
    "X, y = load_images_and_labels(data_dir)\n",
    "\n",
    "# 对标签进行编码\n",
    "label_encoder = LabelEncoder()\n",
    "y_encoded = label_encoder.fit_transform(y)\n",
    "\n",
    "# 划分训练集和测试集\n",
    "X_train, X_test, y_train, y_test = train_test_split(X, y_encoded, test_size=0.2, random_state=42)\n",
    "\n",
    "# 创建 SVM 分类器\n",
    "clf = svm.SVC(kernel='linear')\n",
    "\n",
    "# 训练模型\n",
    "clf.fit(X_train, y_train)\n",
    "\n",
    "# 在测试集上进行预测\n",
    "y_pred = clf.predict(X_test)\n",
    "\n",
    "# 计算准确率\n",
    "accuracy = accuracy_score(y_test, y_pred)\n",
    "print(f'Accuracy: {accuracy}')"
   ]
  },
  {
   "cell_type": "code",
   "execution_count": null,
   "id": "e533aad6-e53e-420a-a704-c8b89e183b9f",
   "metadata": {},
   "outputs": [],
   "source": []
  }
 ],
 "metadata": {
  "kernelspec": {
   "display_name": "Python 3 (ipykernel)",
   "language": "python",
   "name": "python3"
  },
  "language_info": {
   "codemirror_mode": {
    "name": "ipython",
    "version": 3
   },
   "file_extension": ".py",
   "mimetype": "text/x-python",
   "name": "python",
   "nbconvert_exporter": "python",
   "pygments_lexer": "ipython3",
   "version": "3.11.7"
  }
 },
 "nbformat": 4,
 "nbformat_minor": 5
}
